{
 "cells": [
  {
   "cell_type": "code",
   "execution_count": null,
   "id": "fadc8d8f",
   "metadata": {
    "vscode": {
     "languageId": "plaintext"
    }
   },
   "outputs": [],
   "source": [
    "{\n",
    " \"cells\": [\n",
    "  {\n",
    "   \"cell_type\": \"code\",\n",
    "   \"execution_count\": null,\n",
    "   \"metadata\": {},\n",
    "   \"outputs\": [],\n",
    "   \"source\": [\n",
    "    \"import xarray as xr, pandas as pd, matplotlib.pyplot as plt\\n\",\n",
    "    \"# Load monthly CERES SYN1deg net flux\\n\",\n",
    "    \"url = \\\"https://downloads.psl.noaa.gov/Datasets/CERES/SYN1deg/monthly/net_cld_toa_all_mon.nc\\\"\\n\",\n",
    "    \"ds = xr.open_dataset(url)\\n\",\n",
    "    \"net = ds[\\\"toa_net_all_mon\\\"].resample(time=\\\"1M\\\").mean().to_series()\\n\",\n",
    "    \"net.to_csv(\\\"../data/ceres_net.csv\\\")\\n\",\n",
    "    \"\\n\",\n",
    "    \"ssn = pd.read_csv(\\\"../data/ssn.csv\\\", parse_dates=[\\\"Date\\\"], index_col=\\\"Date\\\")\\n\",\n",
    "    \"corr = net.corrwith(ssn[\\\"SSN\\\"], axis=0)\\n\",\n",
    "    \"print(\\\"CERES vs SSN Pearson r =\\\", corr)\\n\",\n",
    "    \"net.rolling(12).mean().plot(label=\\\"CERES net\\\")\\n\",\n",
    "    \"ssn[\\\"SSN\\\"].rolling(12).mean().plot(label=\\\"SSN\\\")\\n\",\n",
    "    \"plt.legend(); plt.savefig(\\\"../plots/ceres_ssn.png\\\", dpi=300)\"\n",
    "   ]\n",
    "  }\n",
    " ],\n",
    " \"metadata\": {\n",
    "  \"kernelspec\": {\n",
    "   \"display_name\": \"Python 3\",\n",
    "   \"language\": \"python\",\n",
    "   \"name\": \"python3\"\n",
    "  }\n",
    " },\n",
    " \"nbformat\": 4,\n",
    " \"nbformat_minor\": 4\n",
    "}"
   ]
  }
 ],
 "metadata": {
  "language_info": {
   "name": "python"
  }
 },
 "nbformat": 4,
 "nbformat_minor": 5
}
