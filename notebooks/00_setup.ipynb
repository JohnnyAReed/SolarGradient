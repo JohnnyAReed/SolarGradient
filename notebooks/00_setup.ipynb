{
 "cells": [
  {
   "cell_type": "code",
   "execution_count": null,
   "id": "3f466b62",
   "metadata": {
    "vscode": {
     "languageId": "plaintext"
    }
   },
   "outputs": [],
   "source": [
    "{\n",
    " \"cells\": [\n",
    "  {\n",
    "   \"cell_type\": \"code\",\n",
    "   \"execution_count\": null,\n",
    "   \"metadata\": {},\n",
    "   \"outputs\": [],\n",
    "   \"source\": [\n",
    "    \"# 0.  Install & import\\n\",\n",
    "    \"!pip install geemap xarray pandas numpy scipy seaborn assembly-theory\\n\",\n",
    "    \"import ee, geemap, xarray as xr, pandas as pd, numpy as np, scipy.signal as sig, seaborn as sns, matplotlib.pyplot as plt\"\n",
    "   ]\n",
    "  },\n",
    "  {\n",
    "   \"cell_type\": \"code\",\n",
    "   \"execution_count\": null,\n",
    "   \"metadata\": {},\n",
    "   \"outputs\": [],\n",
    "   \"source\": [\n",
    "    \"# 1.  Authenticate Earth Engine once\\n\",\n",
    "    \"ee.Authenticate()\\n\",\n",
    "    \"ee.Initialize()\"\n",
    "   ]\n",
    "  },\n",
    "  {\n",
    "   \"cell_type\": \"code\",\n",
    "   \"execution_count\": null,\n",
    "   \"metadata\": {},\n",
    "   \"outputs\": [],\n",
    "   \"source\": [\n",
    "    \"# 2.  Download NOAA monthly sunspot numbers\\n\",\n",
    "    \"url = \\\"https://www.swpc.noaa.gov/products/solar-cycle-progression\\\"\\n\",\n",
    "    \"ssn = pd.read_csv(\\\"https://services.swpc.noaa.gov/products/solar-cycle/sunspot-numbers/monthly/MONTHLY.txt\\\",\\n\",\n",
    "    \"                  delim_whitespace=True, names=[\\\"Year\\\",\\\"Month\\\",\\\"SSN\\\"])\\n\",\n",
    "    \"ssn[\\\"Date\\\"] = pd.to_datetime(ssn[[\\\"Year\\\",\\\"Month\\\"]].assign(DAY=1))\\n\",\n",
    "    \"ssn = ssn[[\\\"Date\\\",\\\"SSN\\\"]].set_index(\\\"Date\\\")\\n\",\n",
    "    \"ssn.to_csv(\\\"../data/ssn.csv\\\")\"\n",
    "   ]\n",
    "  }\n",
    " ],\n",
    " \"metadata\": {\n",
    "  \"kernelspec\": {\n",
    "   \"display_name\": \"Python 3\",\n",
    "   \"language\": \"python\",\n",
    "   \"name\": \"python3\"\n",
    "  }\n",
    " },\n",
    " \"nbformat\": 4,\n",
    " \"nbformat_minor\": 4\n",
    "}"
   ]
  }
 ],
 "metadata": {
  "language_info": {
   "name": "python"
  }
 },
 "nbformat": 4,
 "nbformat_minor": 5
}
