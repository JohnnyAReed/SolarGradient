{
 "cells": [
  {
   "cell_type": "code",
   "execution_count": null,
   "id": "271865fd",
   "metadata": {
    "vscode": {
     "languageId": "plaintext"
    }
   },
   "outputs": [],
   "source": [
    "{\n",
    " \"cells\": [\n",
    "  {\n",
    "   \"cell_type\": \"code\",\n",
    "   \"execution_count\": null,\n",
    "   \"metadata\": {},\n",
    "   \"outputs\": [],\n",
    "   \"source\": [\n",
    "    \"import pandas as pd, scipy.signal as sig, matplotlib.pyplot as plt\\n\",\n",
    "    \"ssn = pd.read_csv(\\\"../data/ssn.csv\\\", parse_dates=[\\\"Date\\\"], index_col=\\\"Date\\\")\\n\",\n",
    "    \"\\n\",\n",
    "    \"# --- Grab global NDVI with Earth Engine (quick cell below) ---\\n\",\n",
    "    \"import ee\\n\",\n",
    "    \"ee.Initialize()\\n\",\n",
    "    \"ndvi = (ee.ImageCollection(\\\"MODIS/006/MOD13C2\\\")\\n\",\n",
    "    \"        .select('NDVI')\\n\",\n",
    "    \"        .filterDate('2000-01-01','2024-12-31')\\n\",\n",
    "    \"        .map(lambda img: img.set('date', img.date().format('YYYY-MM-01')))\\n\",\n",
    "    \"        .map(lambda img: img.multiply(0.0001)))  # scale factor\\n\",\n",
    "    \"ts = geemap.image_series_to_pandas(ndvi)\\n\",\n",
    "    \"ts.to_csv(\\\"../data/global_ndvi.csv\\\")\"\n",
    "   ]\n",
    "  },\n",
    "  {\n",
    "   \"cell_type\": \"code\",\n",
    "   \"execution_count\": null,\n",
    "   \"metadata\": {},\n",
    "   \"outputs\": [],\n",
    "   \"source\": [\n",
    "    \"# --- Lomb–Scargle power spectrum ---\\n\",\n",
    "    \"df = pd.read_csv(\\\"../data/global_ndvi.csv\\\", parse_dates=[\\\"date\\\"], index_col=\\\"date\\\").mean(axis=1)\\n\",\n",
    "    \"freq, power = sig.lombscargle(df.index.astype(np.int64)//1e9, df.values, \\n\",\n",
    "    \"                              1/np.linspace(1, 25, 5000))  # periods in years\\n\",\n",
    "    \"plt.semilogx(1/freq/365.25, power)\\n\",\n",
    "    \"plt.axvline(11, color='red')\\n\",\n",
    "    \"plt.title(\\\"NDVI 11-year power\\\")\\n\",\n",
    "    \"plt.savefig(\\\"../plots/ndvi_lomb.png\\\", dpi=300)\"\n",
    "   ]\n",
    "  }\n",
    " ],\n",
    " \"metadata\": {\n",
    "  \"kernelspec\": {\n",
    "   \"display_name\": \"Python 3\",\n",
    "   \"language\": \"python\",\n",
    "   \"name\": \"python3\"\n",
    "  }\n",
    " },\n",
    " \"nbformat\": 4,\n",
    " \"nbformat_minor\": 4\n",
    "}"
   ]
  }
 ],
 "metadata": {
  "language_info": {
   "name": "python"
  }
 },
 "nbformat": 4,
 "nbformat_minor": 5
}
